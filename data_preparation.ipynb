{
 "cells": [
  {
   "cell_type": "code",
   "execution_count": 12,
   "metadata": {},
   "outputs": [],
   "source": [
    "import cv2\n",
    "import mediapipe as mp\n",
    "import numpy as np\n",
    "import os\n",
    "from tqdm import tqdm\n",
    "import pandas as pd\n",
    "import plotly.graph_objects as go\n",
    "mp_drawing = mp.solutions.drawing_utils\n",
    "mp_pose = mp.solutions.pose"
   ]
  },
  {
   "cell_type": "code",
   "execution_count": 3,
   "metadata": {},
   "outputs": [],
   "source": [
    "def list_files_in_directory(directory):\n",
    "\n",
    "    file_paths = []\n",
    "    for root, _, files in os.walk(directory):\n",
    "        for file in files:\n",
    "            file_path = os.path.join(root, file)\n",
    "            if os.path.isfile(file_path):\n",
    "                file_paths.append(file_path)\n",
    "    return file_paths"
   ]
  },
  {
   "cell_type": "code",
   "execution_count": 4,
   "metadata": {},
   "outputs": [],
   "source": [
    "def get_folder_names(directory):\n",
    "\n",
    "    folder_names = []\n",
    "\n",
    "    for item in os.listdir(directory):\n",
    "        item_path = os.path.join(directory, item)\n",
    "\n",
    "        if os.path.isdir(item_path):\n",
    "            folder_names.append(item)\n",
    "\n",
    "    return folder_names"
   ]
  },
  {
   "cell_type": "code",
   "execution_count": 9,
   "metadata": {},
   "outputs": [
    {
     "data": {
      "text/plain": [
       "['chest fly machine']"
      ]
     },
     "execution_count": 9,
     "metadata": {},
     "output_type": "execute_result"
    }
   ],
   "source": [
    "folder_names = get_folder_names(\"data\")\n",
    "folder_names = [folder_names[2]]\n",
    "folder_names"
   ]
  },
  {
   "cell_type": "code",
   "execution_count": 10,
   "metadata": {},
   "outputs": [],
   "source": [
    "directory = \"output\"\n",
    "\n",
    "if not os.path.exists(directory):\n",
    "    os.makedirs(directory)"
   ]
  },
  {
   "cell_type": "code",
   "execution_count": 11,
   "metadata": {},
   "outputs": [
    {
     "name": "stdout",
     "output_type": "stream",
     "text": [
      "Class: chest fly machine\n"
     ]
    },
    {
     "name": "stderr",
     "output_type": "stream",
     "text": [
      "  0%|          | 0/28 [00:00<?, ?it/s]"
     ]
    },
    {
     "name": "stderr",
     "output_type": "stream",
     "text": [
      "c:\\Users\\chand\\anaconda3\\envs\\AllPackages\\Lib\\site-packages\\google\\protobuf\\symbol_database.py:55: UserWarning: SymbolDatabase.GetPrototype() is deprecated. Please use message_factory.GetMessageClass() instead. SymbolDatabase.GetPrototype() will be removed soon.\n",
      "  warnings.warn('SymbolDatabase.GetPrototype() is deprecated. Please '\n",
      "100%|██████████| 28/28 [03:49<00:00,  8.20s/it]\n"
     ]
    },
    {
     "name": "stdout",
     "output_type": "stream",
     "text": [
      "['data/chest fly machine\\\\chest fly machine_15.mp4', 'data/chest fly machine\\\\chest fly machine_16.mp4', 'data/chest fly machine\\\\chest fly machine_17.mp4', 'data/chest fly machine\\\\chest fly machine_18.mp4', 'data/chest fly machine\\\\chest fly machine_23.mp4', 'data/chest fly machine\\\\chest fly machine_24.mp4', 'data/chest fly machine\\\\chest fly machine_25.mp4', 'data/chest fly machine\\\\chest fly machine_26.mp4']\n"
     ]
    }
   ],
   "source": [
    "marked_for_removal = []\n",
    "\n",
    "for folder_name in folder_names:\n",
    "    video_paths = list_files_in_directory(f'data/{folder_name}')\n",
    "    all_clips = []\n",
    "    print(f\"Class: {folder_name}\")\n",
    "    for video_source in tqdm(video_paths):\n",
    "        \n",
    "        cap = cv2.VideoCapture(video_source)\n",
    "        with mp_pose.Pose(min_detection_confidence=0.5, min_tracking_confidence=0.5) as pose:\n",
    "            while cap.isOpened():\n",
    "                temp = []\n",
    "                ret, frame = cap.read()\n",
    "\n",
    "                if not ret:\n",
    "                    break\n",
    "                \n",
    "                image = cv2.cvtColor(frame, cv2.COLOR_BGR2RGB)\n",
    "                image.flags.writeable = False\n",
    "                \n",
    "                results = pose.process(image)\n",
    "            \n",
    "                image.flags.writeable = True\n",
    "                image = cv2.cvtColor(image, cv2.COLOR_RGB2BGR)\n",
    "                \n",
    "                try:\n",
    "                    landmarks = results.pose_landmarks.landmark\n",
    "                    for y in landmarks:\n",
    "                        temp.extend([y.x,y.y,y.z,y.visibility])\n",
    "                    \n",
    "                except:\n",
    "                    pass\n",
    "                \n",
    "                mp_drawing.draw_landmarks(image, results.pose_landmarks, mp_pose.POSE_CONNECTIONS,\n",
    "                                        mp_drawing.DrawingSpec(color=(245,117,66), thickness=2, circle_radius=2), \n",
    "                                        mp_drawing.DrawingSpec(color=(245,66,230), thickness=2, circle_radius=2) \n",
    "                                        )               \n",
    "                \n",
    "                cv2.imshow('Mediapipe Feed', image)\n",
    "\n",
    "                if cv2.waitKey(10) & 0xFF == ord('q'):\n",
    "                    marked_for_removal.append(video_source)\n",
    "                    break\n",
    "                else:\n",
    "                    all_clips.append(temp)\n",
    "\n",
    "            cap.release()\n",
    "                \n",
    "            cv2.destroyAllWindows()\n",
    " \n",
    "    df = pd.DataFrame(all_clips)\n",
    "    df[\"class\"] = folder_name\n",
    "    df.to_csv(f\"output/{folder_name}.csv\")\n",
    "\n",
    "print(marked_for_removal)"
   ]
  },
  {
   "cell_type": "markdown",
   "metadata": {},
   "source": [
    "# Visualisation"
   ]
  },
  {
   "cell_type": "code",
   "execution_count": 13,
   "metadata": {},
   "outputs": [],
   "source": [
    "df = pd.read_csv('output\\\\barbell biceps curl.csv')"
   ]
  },
  {
   "cell_type": "code",
   "execution_count": null,
   "metadata": {},
   "outputs": [],
   "source": []
  }
 ],
 "metadata": {
  "kernelspec": {
   "display_name": "AllPackages",
   "language": "python",
   "name": "python3"
  },
  "language_info": {
   "codemirror_mode": {
    "name": "ipython",
    "version": 3
   },
   "file_extension": ".py",
   "mimetype": "text/x-python",
   "name": "python",
   "nbconvert_exporter": "python",
   "pygments_lexer": "ipython3",
   "version": "3.11.9"
  }
 },
 "nbformat": 4,
 "nbformat_minor": 2
}
